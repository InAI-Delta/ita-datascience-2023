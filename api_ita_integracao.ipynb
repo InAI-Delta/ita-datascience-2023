{
 "cells": [
  {
   "cell_type": "code",
   "execution_count": 35,
   "metadata": {},
   "outputs": [],
   "source": [
    "import requests\n",
    "import pandas as pd\n",
    "from datetime import datetime, timedelta"
   ]
  },
  {
   "cell_type": "markdown",
   "metadata": {},
   "source": [
    "1. BIMTRA (Banco de Informações de Movimento de Tráfego Aéreo)\n",
    "2. CAT-62 (Dados de Síntese Radar)\n",
    "3. Esperas (Dados de Quantidades de Esperas em voo por hora)\n",
    "4. METAF (Terminal Aerodrome Forecast)\n",
    "5. METAR (Relatório Meteorológico de Aeródromo)\n",
    "6. Satélite Meteorológico\n",
    "7. Previsão da Troca de Cabeceiras de Aeródromo\n",
    "8. Histórico da Troca de Cabeceiras de Aeródromo"
   ]
  },
  {
   "cell_type": "code",
   "execution_count": 36,
   "metadata": {},
   "outputs": [],
   "source": [
    "def api_request(endpoint, token, idate, fdate):\n",
    "    url = 'http://montreal.icea.decea.mil.br:5002/api/v1/' + str(endpoint) + '?token=' + str(token) + '&idate=' + str(idate) + '&fdate=' + str(fdate)\n",
    "    return url"
   ]
  },
  {
   "cell_type": "code",
   "execution_count": 37,
   "metadata": {},
   "outputs": [],
   "source": [
    "def to_csv(list, name):\n",
    "    df = pd.DataFrame(list)\n",
    "    df.to_csv(f'data/{name}_df.csv', index=False)"
   ]
  },
  {
   "cell_type": "code",
   "execution_count": 38,
   "metadata": {},
   "outputs": [],
   "source": [
    "token = 'a779d04f85c4bf6cfa586d30aaec57c44e9b7173'\n",
    "\n",
    "bimtra_url = api_request('bimtra', token, '2022-06-01', '2022-08-01')\n",
    "esperas_url = api_request('esperas', token, '2022-06-01', '2022-08-01')\n",
    "metaf_url = api_request('metaf', token, '2022-06-01', '2022-08-01')\n",
    "metar_url = api_request('metar', token, '2022-06-01', '2022-08-01')\n",
    "tc_prev_url = api_request('tc-prev', token, '2022-06-01', '2022-08-01')\n",
    "tc_real_url = api_request('tc-real', token, '2022-06-01', '2022-08-01')\n",
    "\n",
    "urls = {\n",
    "    'bimtra': bimtra_url,\n",
    "    'esperas': esperas_url,\n",
    "    'metaf': metaf_url,\n",
    "    'metar': metar_url,\n",
    "    'tc-prev': tc_prev_url,\n",
    "    'tc-real': tc_real_url\n",
    "}"
   ]
  },
  {
   "cell_type": "code",
   "execution_count": 39,
   "metadata": {},
   "outputs": [
    {
     "name": "stdout",
     "output_type": "stream",
     "text": [
      "Dados de bimtra salvos em formato csv com sucesso!\n",
      "Dados de esperas salvos em formato csv com sucesso!\n",
      "Dados de metaf salvos em formato csv com sucesso!\n",
      "Dados de metar salvos em formato csv com sucesso!\n",
      "Dados de satelite salvos em formato csv com sucesso!\n",
      "Dados de tc-prev salvos em formato csv com sucesso!\n",
      "Dados de tc-real salvos em formato csv com sucesso!\n"
     ]
    }
   ],
   "source": [
    "for url_key, url_value in urls.items():\n",
    "    res = requests.get(url_value)\n",
    "\n",
    "    if res.status_code == 200:\n",
    "        req = res.json()\n",
    "        to_csv(req, url_key)\n",
    "        print(f'Dados de {url_key} salvos em formato csv com sucesso!')\n",
    "    else:\n",
    "        print(f'Falha na solicitação de {url_key}. Código de status:', res.status_code)"
   ]
  },
  {
   "cell_type": "code",
   "execution_count": 40,
   "metadata": {},
   "outputs": [],
   "source": [
    "# initial_date = '2022-06-1 00:00:00.000'\n",
    "# final_date = '2023-05-13 00:00:00.000'\n",
    "# increment = timedelta(hours=1)\n",
    "\n",
    "# current_date = initial_date\n",
    "\n",
    "# while current_date <= final_date:\n",
    "#     print(current_date)\n",
    "#     current_date = datetime.strptime(current_date, '%Y-%m-%d %H:%M:%S.%f') + increment\n",
    "#     current_date = datetime.strftime(current_date, '%Y-%m-%d %H:%M:%S.%f')\n",
    "#     current_date = current_date[:-3]"
   ]
  },
  {
   "cell_type": "code",
   "execution_count": 41,
   "metadata": {},
   "outputs": [
    {
     "name": "stdout",
     "output_type": "stream",
     "text": [
      "Dados de cat-62 salvos em um dataframe sucesso!\n",
      "Dados de cat-62 salvos em um dataframe sucesso!\n",
      "Dados de cat-62 salvos em um dataframe sucesso!\n",
      "Dados de cat-62 salvos em um dataframe sucesso!\n",
      "Dados de cat-62 salvos em um dataframe sucesso!\n",
      "Dados de cat-62 salvos em um dataframe sucesso!\n"
     ]
    }
   ],
   "source": [
    "def cat_62_api_request(token, initial_date, final_date):\n",
    "    url = 'http://montreal.icea.decea.mil.br:5002/api/v1/cat-62?token=' + str(token) + '&idate=' + str(initial_date) + '&fdate=' + str(final_date)\n",
    "    res = requests.get(url)\n",
    "    if res.status_code == 200:\n",
    "        req = res.json()\n",
    "        df = pd.DataFrame(req)\n",
    "        print(f'Dados de cat-62 salvos em um dataframe sucesso!')\n",
    "        return df\n",
    "    else:\n",
    "        print(f'Falha na solicitação. Código de status:', res.status_code)\n",
    "        return None\n",
    "\n",
    "cat_62_df_1 = cat_62_api_request('a779d04f85c4bf6cfa586d30aaec57c44e9b7173', '2022-06-01 00:00:00.000', '2022-06-15 00:00:00.000')\n",
    "cat_62_df_2 = cat_62_api_request('a779d04f85c4bf6cfa586d30aaec57c44e9b7173', '2022-06-15 00:00:00.000', '2022-06-25 00:00:00.000')\n",
    "cat_62_df_3 = cat_62_api_request('a779d04f85c4bf6cfa586d30aaec57c44e9b7173', '2022-06-25 00:00:00.000', '2022-07-05 00:00:00.000')\n",
    "cat_62_df_4 = cat_62_api_request('a779d04f85c4bf6cfa586d30aaec57c44e9b7173', '2022-07-05 00:00:00.000', '2022-07-10 00:00:00.000')\n",
    "cat_62_df_5 = cat_62_api_request('a779d04f85c4bf6cfa586d30aaec57c44e9b7173', '2022-07-10 00:00:00.000', '2022-07-20 00:00:00.000')\n",
    "cat_62_df_6 = cat_62_api_request('a779d04f85c4bf6cfa586d30aaec57c44e9b7173', '2022-07-20 00:00:00.000', '2022-08-01 00:00:00.000')"
   ]
  },
  {
   "cell_type": "code",
   "execution_count": 42,
   "metadata": {},
   "outputs": [
    {
     "name": "stdout",
     "output_type": "stream",
     "text": [
      "Dados de cat-62 salvos em formato csv com sucesso!\n"
     ]
    }
   ],
   "source": [
    "cat_62 = pd.concat([cat_62_df_1, cat_62_df_2, cat_62_df_3, cat_62_df_4, cat_62_df_5, cat_62_df_6])\n",
    "cat_62.to_csv('data/cat-62_df.csv', index=False)\n",
    "print(f'Dados de cat-62 salvos em formato csv com sucesso!')"
   ]
  }
 ],
 "metadata": {
  "kernelspec": {
   "display_name": "Python 3",
   "language": "python",
   "name": "python3"
  },
  "language_info": {
   "codemirror_mode": {
    "name": "ipython",
    "version": 3
   },
   "file_extension": ".py",
   "mimetype": "text/x-python",
   "name": "python",
   "nbconvert_exporter": "python",
   "pygments_lexer": "ipython3",
   "version": "3.11.5"
  },
  "orig_nbformat": 4
 },
 "nbformat": 4,
 "nbformat_minor": 2
}
