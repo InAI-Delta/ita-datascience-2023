{
 "cells": [
  {
   "cell_type": "code",
   "execution_count": null,
   "metadata": {},
   "outputs": [],
   "source": [
    "import requests\n",
    "import pandas as pd"
   ]
  },
  {
   "cell_type": "markdown",
   "metadata": {},
   "source": [
    "1. BIMTRA (Banco de Informações de Movimento de Tráfego Aéreo)\n",
    "2. CAT-62 (Dados de Síntese Radar)\n",
    "3. Esperas (Dados de Quantidades de Esperas em voo por hora)\n",
    "4. METAF (Terminal Aerodrome Forecast)\n",
    "5. METAR (Relatório Meteorológico de Aeródromo)\n",
    "6. Satélite Meteorológico\n",
    "7. Previsão da Troca de Cabeceiras de Aeródromo\n",
    "8. Histórico da Troca de Cabeceiras de Aeródromo"
   ]
  },
  {
   "cell_type": "code",
   "execution_count": null,
   "metadata": {},
   "outputs": [],
   "source": [
    "def api_request(endpoint, token, idate, fdate):\n",
    "    url = 'http://montreal.icea.decea.mil.br:5002/api/v1/' + str(endpoint) + '?token=' + str(token) + '&idate=' + str(idate) + '&fdate=' + str(fdate)\n",
    "    return url"
   ]
  },
  {
   "cell_type": "code",
   "execution_count": null,
   "metadata": {},
   "outputs": [],
   "source": [
    "def to_csv(list, name):\n",
    "    df = pd.DataFrame(list)\n",
    "    df.to_csv(f'data/{name}_df.csv', index=False)"
   ]
  },
  {
   "cell_type": "code",
   "execution_count": null,
   "metadata": {},
   "outputs": [],
   "source": [
    "token = 'a779d04f85c4bf6cfa586d30aaec57c44e9b7173'\n",
    "\n",
    "bimtra_url = api_request('bimtra', token, '2022-06-01', '2023-05-13')\n",
    "cat_62_url = api_request('cat-62', token, '2022-06-01 00:00:00.000', '2023-05-13 00:00:00.000')\n",
    "esperas_url = api_request('esperas', token, '2022-06-01', '2023-05-13')\n",
    "metaf_url = api_request('metaf', token, '2022-06-01', '2023-05-13')\n",
    "metar_url = api_request('metar', token, '2022-06-01', '2023-05-13')\n",
    "satelite_url = api_request('satelite', token, '2022-06-01', '2023-05-13')\n",
    "tc_prev_url = api_request('tc-prev', token, '2022-06-01', '2023-05-13')\n",
    "tc_real_url = api_request('tc-real', token, '2022-06-01', '2023-05-13')\n",
    "\n",
    "urls = {\n",
    "    'bimtra': bimtra_url,\n",
    "    'cat-62': cat_62_url, \n",
    "    'esperas': esperas_url,\n",
    "    'metaf': metaf_url,\n",
    "    'metar': metar_url,\n",
    "    'satelite': satelite_url,\n",
    "    'tc-prev': tc_prev_url,\n",
    "    'tc-real': tc_real_url\n",
    "}"
   ]
  },
  {
   "cell_type": "code",
   "execution_count": null,
   "metadata": {},
   "outputs": [],
   "source": [
    "for url_key, url_value in urls.items():\n",
    "    res = requests.get(url_value)\n",
    "\n",
    "    if res.status_code == 200:\n",
    "        req = res.json()\n",
    "        to_csv(req, url_key)\n",
    "        print(f'Dados de {url_key} salvos em formato csv com sucesso!')\n",
    "    else:\n",
    "        print(f'Falha na solicitação de {url_key}. Código de status:', res.status_code)"
   ]
  },
  {
   "cell_type": "code",
   "execution_count": null,
   "metadata": {},
   "outputs": [],
   "source": [
    "cat_62_url_2 = api_request('cat-62', 'a779d04f85c4bf6cfa586d30aaec57c44e9b7173', '2022-06-01 00:00:00.000', '2022-06-15 00:00:00.000')\n",
    "\n",
    "res = requests.get(cat_62_url_2)\n",
    "\n",
    "if res.status_code == 200:\n",
    "    req = res.json()\n",
    "    to_csv(req, 'cat-62')\n",
    "    print(f'Dados de cat-62 salvos em formato csv com sucesso!')\n",
    "else:\n",
    "    print(f'Falha na solicitação. Código de status:', res.status_code)"
   ]
  }
 ],
 "metadata": {
  "kernelspec": {
   "display_name": "Python 3",
   "language": "python",
   "name": "python3"
  },
  "language_info": {
   "codemirror_mode": {
    "name": "ipython",
    "version": 3
   },
   "file_extension": ".py",
   "mimetype": "text/x-python",
   "name": "python",
   "nbconvert_exporter": "python",
   "pygments_lexer": "ipython3",
   "version": "3.11.5"
  },
  "orig_nbformat": 4
 },
 "nbformat": 4,
 "nbformat_minor": 2
}
